{
 "cells": [
  {
   "cell_type": "markdown",
   "metadata": {},
   "source": [
    "# About The Dataset\n",
    "The original source of the data is Australian Government's Bureau of Meteorology and the latest data can be gathered from [http://www.bom.gov.au/climate/dwo/](http://www.bom.gov.au/climate/dwo/?utm_medium=Exinfluencer&utm_source=Exinfluencer&utm_content=000026UJ&utm_term=10006555&utm_id=NA-SkillsNetwork-Channel-SkillsNetworkCoursesIBMDeveloperSkillsNetworkML0101ENSkillsNetwork20718538-2022-01-01).\n",
    "\n",
    "The dataset I used in this project was downloaded from Kaggle at [https://www.kaggle.com/datasets/jsphyg/weather-dataset-rattle-package/](https://www.kaggle.com/datasets/jsphyg/weather-dataset-rattle-package?resource=download&select=weatherAUS.csv)  \n",
    "Column definitions were gathered from [http://www.bom.gov.au/climate/dwo/IDCJDW0000.shtml](http://www.bom.gov.au/climate/dwo/IDCJDW0000.shtml?utm_medium=Exinfluencer&utm_source=Exinfluencer&utm_content=000026UJ&utm_term=10006555&utm_id=NA-SkillsNetwork-Channel-SkillsNetworkCoursesIBMDeveloperSkillsNetworkML0101ENSkillsNetwork20718538-2022-01-01)  \n",
    "\n",
    "The dataset contains observations of weather metrics for each day from 2008 to 2017, and includes the following fields:\n",
    "\n",
    "| Field         | Description                                           | Unit            | Type   |\n",
    "| :------------ | :---------------------------------------------------- | :-------------- | :----- |\n",
    "| Date          | Date of the Observation in YYYY-MM-DD                 | Date            | object |\n",
    "| Location      | Location of the Observation                           | Location        | object |\n",
    "| MinTemp       | Minimum temperature                                   | Celsius         | float  |\n",
    "| MaxTemp       | Maximum temperature                                   | Celsius         | float  |\n",
    "| Rainfall      | Amount of rainfall                                    | Millimeters     | float  |\n",
    "| Evaporation   | Amount of evaporation                                 | Millimeters     | float  |\n",
    "| Sunshine      | Amount of bright sunshine                             | hours           | float  |\n",
    "| WindGustDir   | Direction of the strongest gust                       | Compass Points  | object |\n",
    "| WindGustSpeed | Speed of the strongest gust                           | Kilometers/Hour | object |\n",
    "| WindDir9am    | Wind direction averaged over 10 minutes prior to 9am  | Compass Points  | object |\n",
    "| WindDir3pm    | Wind direction averaged over 10 minutes prior to 3pm  | Compass Points  | object |\n",
    "| WindSpeed9am  | Wind speed averaged over 10 minutes prior to 9am      | Kilometers/Hour | float  |\n",
    "| WindSpeed3pm  | Wind speed averaged over 10 minutes prior to 3pm      | Kilometers/Hour | float  |\n",
    "| Humidity9am   | Humidity at 9am                                       | Percent         | float  |\n",
    "| Humidity3pm   | Humidity at 3pm                                       | Percent         | float  |\n",
    "| Pressure9am   | Atmospheric pressure reduced to mean sea level at 9am | Hectopascal     | float  |\n",
    "| Pressure3pm   | Atmospheric pressure reduced to mean sea level at 3pm | Hectopascal     | float  |\n",
    "| Cloud9am      | Fraction of the sky obscured by cloud at 9am          | Eights          | float  |\n",
    "| Cloud3pm      | Fraction of the sky obscured by cloud at 3pm          | Eights          | float  |\n",
    "| Temp9am       | Temperature at 9am                                    | Celsius         | float  |\n",
    "| Temp3pm       | Temperature at 3pm                                    | Celsius         | float  |\n",
    "| RainToday     | If there was at least 1mm of rain today               | Yes/No          | object |\n",
    "| RainTomorrow  | If there is at least 1mm of rain tomorrow             | Yes/No          | object |\n",
    "\n"
   ]
  },
  {
   "cell_type": "markdown",
   "metadata": {},
   "source": [
    "## Installing and importing the required libraries\n"
   ]
  },
  {
   "cell_type": "code",
   "execution_count": 1,
   "metadata": {},
   "outputs": [
    {
     "name": "stdout",
     "output_type": "stream",
     "text": [
      "Requirement already satisfied: numpy in c:\\users\\rajveer gupta\\anaconda3\\lib\\site-packages (1.26.4)\n",
      "Requirement already satisfied: pandas in c:\\users\\rajveer gupta\\anaconda3\\lib\\site-packages (2.2.3)\n",
      "Requirement already satisfied: numpy>=1.26.0 in c:\\users\\rajveer gupta\\anaconda3\\lib\\site-packages (from pandas) (1.26.4)\n",
      "Requirement already satisfied: python-dateutil>=2.8.2 in c:\\users\\rajveer gupta\\anaconda3\\lib\\site-packages (from pandas) (2.9.0.post0)\n",
      "Requirement already satisfied: pytz>=2020.1 in c:\\users\\rajveer gupta\\anaconda3\\lib\\site-packages (from pandas) (2024.1)\n",
      "Requirement already satisfied: tzdata>=2022.7 in c:\\users\\rajveer gupta\\anaconda3\\lib\\site-packages (from pandas) (2023.3)\n",
      "Requirement already satisfied: six>=1.5 in c:\\users\\rajveer gupta\\anaconda3\\lib\\site-packages (from python-dateutil>=2.8.2->pandas) (1.16.0)\n",
      "Requirement already satisfied: matplotlib in c:\\users\\rajveer gupta\\anaconda3\\lib\\site-packages (3.9.3)\n",
      "Requirement already satisfied: contourpy>=1.0.1 in c:\\users\\rajveer gupta\\anaconda3\\lib\\site-packages (from matplotlib) (1.2.0)\n",
      "Requirement already satisfied: cycler>=0.10 in c:\\users\\rajveer gupta\\anaconda3\\lib\\site-packages (from matplotlib) (0.11.0)\n",
      "Requirement already satisfied: fonttools>=4.22.0 in c:\\users\\rajveer gupta\\anaconda3\\lib\\site-packages (from matplotlib) (4.51.0)\n",
      "Requirement already satisfied: kiwisolver>=1.3.1 in c:\\users\\rajveer gupta\\anaconda3\\lib\\site-packages (from matplotlib) (1.4.4)\n",
      "Requirement already satisfied: numpy>=1.23 in c:\\users\\rajveer gupta\\anaconda3\\lib\\site-packages (from matplotlib) (1.26.4)\n",
      "Requirement already satisfied: packaging>=20.0 in c:\\users\\rajveer gupta\\anaconda3\\lib\\site-packages (from matplotlib) (24.1)\n",
      "Requirement already satisfied: pillow>=8 in c:\\users\\rajveer gupta\\anaconda3\\lib\\site-packages (from matplotlib) (10.4.0)\n",
      "Requirement already satisfied: pyparsing>=2.3.1 in c:\\users\\rajveer gupta\\anaconda3\\lib\\site-packages (from matplotlib) (3.1.2)\n",
      "Requirement already satisfied: python-dateutil>=2.7 in c:\\users\\rajveer gupta\\anaconda3\\lib\\site-packages (from matplotlib) (2.9.0.post0)\n",
      "Requirement already satisfied: six>=1.5 in c:\\users\\rajveer gupta\\anaconda3\\lib\\site-packages (from python-dateutil>=2.7->matplotlib) (1.16.0)\n",
      "Requirement already satisfied: scikit-learn in c:\\users\\rajveer gupta\\anaconda3\\lib\\site-packages (1.6.0)\n",
      "Requirement already satisfied: numpy>=1.19.5 in c:\\users\\rajveer gupta\\anaconda3\\lib\\site-packages (from scikit-learn) (1.26.4)\n",
      "Requirement already satisfied: scipy>=1.6.0 in c:\\users\\rajveer gupta\\anaconda3\\lib\\site-packages (from scikit-learn) (1.13.1)\n",
      "Requirement already satisfied: joblib>=1.2.0 in c:\\users\\rajveer gupta\\anaconda3\\lib\\site-packages (from scikit-learn) (1.4.2)\n",
      "Requirement already satisfied: threadpoolctl>=3.1.0 in c:\\users\\rajveer gupta\\anaconda3\\lib\\site-packages (from scikit-learn) (3.5.0)\n",
      "Requirement already satisfied: seaborn in c:\\users\\rajveer gupta\\anaconda3\\lib\\site-packages (0.13.2)\n",
      "Requirement already satisfied: numpy!=1.24.0,>=1.20 in c:\\users\\rajveer gupta\\anaconda3\\lib\\site-packages (from seaborn) (1.26.4)\n",
      "Requirement already satisfied: pandas>=1.2 in c:\\users\\rajveer gupta\\anaconda3\\lib\\site-packages (from seaborn) (2.2.3)\n",
      "Requirement already satisfied: matplotlib!=3.6.1,>=3.4 in c:\\users\\rajveer gupta\\anaconda3\\lib\\site-packages (from seaborn) (3.9.3)\n",
      "Requirement already satisfied: contourpy>=1.0.1 in c:\\users\\rajveer gupta\\anaconda3\\lib\\site-packages (from matplotlib!=3.6.1,>=3.4->seaborn) (1.2.0)\n",
      "Requirement already satisfied: cycler>=0.10 in c:\\users\\rajveer gupta\\anaconda3\\lib\\site-packages (from matplotlib!=3.6.1,>=3.4->seaborn) (0.11.0)\n",
      "Requirement already satisfied: fonttools>=4.22.0 in c:\\users\\rajveer gupta\\anaconda3\\lib\\site-packages (from matplotlib!=3.6.1,>=3.4->seaborn) (4.51.0)\n",
      "Requirement already satisfied: kiwisolver>=1.3.1 in c:\\users\\rajveer gupta\\anaconda3\\lib\\site-packages (from matplotlib!=3.6.1,>=3.4->seaborn) (1.4.4)\n",
      "Requirement already satisfied: packaging>=20.0 in c:\\users\\rajveer gupta\\anaconda3\\lib\\site-packages (from matplotlib!=3.6.1,>=3.4->seaborn) (24.1)\n",
      "Requirement already satisfied: pillow>=8 in c:\\users\\rajveer gupta\\anaconda3\\lib\\site-packages (from matplotlib!=3.6.1,>=3.4->seaborn) (10.4.0)\n",
      "Requirement already satisfied: pyparsing>=2.3.1 in c:\\users\\rajveer gupta\\anaconda3\\lib\\site-packages (from matplotlib!=3.6.1,>=3.4->seaborn) (3.1.2)\n",
      "Requirement already satisfied: python-dateutil>=2.7 in c:\\users\\rajveer gupta\\anaconda3\\lib\\site-packages (from matplotlib!=3.6.1,>=3.4->seaborn) (2.9.0.post0)\n",
      "Requirement already satisfied: pytz>=2020.1 in c:\\users\\rajveer gupta\\anaconda3\\lib\\site-packages (from pandas>=1.2->seaborn) (2024.1)\n",
      "Requirement already satisfied: tzdata>=2022.7 in c:\\users\\rajveer gupta\\anaconda3\\lib\\site-packages (from pandas>=1.2->seaborn) (2023.3)\n",
      "Requirement already satisfied: six>=1.5 in c:\\users\\rajveer gupta\\anaconda3\\lib\\site-packages (from python-dateutil>=2.7->matplotlib!=3.6.1,>=3.4->seaborn) (1.16.0)\n",
      "Requirement already satisfied: xgboost in c:\\users\\rajveer gupta\\anaconda3\\lib\\site-packages (3.0.2)\n",
      "Requirement already satisfied: numpy in c:\\users\\rajveer gupta\\anaconda3\\lib\\site-packages (from xgboost) (1.26.4)\n",
      "Requirement already satisfied: scipy in c:\\users\\rajveer gupta\\anaconda3\\lib\\site-packages (from xgboost) (1.13.1)\n"
     ]
    }
   ],
   "source": [
    "!pip install numpy\n",
    "!pip install pandas\n",
    "!pip install matplotlib\n",
    "!pip install scikit-learn\n",
    "!pip install seaborn\n",
    "!pip install xgboost"
   ]
  },
  {
   "cell_type": "code",
   "execution_count": 2,
   "metadata": {},
   "outputs": [],
   "source": [
    "import pandas as pd\n",
    "import matplotlib.pyplot as plt\n",
    "from sklearn.compose import ColumnTransformer\n",
    "from sklearn.pipeline import Pipeline\n",
    "from sklearn.preprocessing import StandardScaler, OrdinalEncoder,LabelEncoder\n",
    "from sklearn.model_selection import train_test_split, GridSearchCV, StratifiedKFold\n",
    "from sklearn.ensemble import RandomForestClassifier\n",
    "from xgboost import XGBClassifier\n",
    "from sklearn.impute import SimpleImputer\n",
    "from sklearn.metrics import classification_report, confusion_matrix, accuracy_score\n",
    "import seaborn as sns\n",
    "import time"
   ]
  },
  {
   "cell_type": "markdown",
   "metadata": {},
   "source": [
    "## Loading the data\n"
   ]
  },
  {
   "cell_type": "code",
   "execution_count": 3,
   "metadata": {},
   "outputs": [
    {
     "data": {
      "text/html": [
       "<div>\n",
       "<style scoped>\n",
       "    .dataframe tbody tr th:only-of-type {\n",
       "        vertical-align: middle;\n",
       "    }\n",
       "\n",
       "    .dataframe tbody tr th {\n",
       "        vertical-align: top;\n",
       "    }\n",
       "\n",
       "    .dataframe thead th {\n",
       "        text-align: right;\n",
       "    }\n",
       "</style>\n",
       "<table border=\"1\" class=\"dataframe\">\n",
       "  <thead>\n",
       "    <tr style=\"text-align: right;\">\n",
       "      <th></th>\n",
       "      <th>Date</th>\n",
       "      <th>Location</th>\n",
       "      <th>MinTemp</th>\n",
       "      <th>MaxTemp</th>\n",
       "      <th>Rainfall</th>\n",
       "      <th>Evaporation</th>\n",
       "      <th>Sunshine</th>\n",
       "      <th>WindGustDir</th>\n",
       "      <th>WindGustSpeed</th>\n",
       "      <th>WindDir9am</th>\n",
       "      <th>...</th>\n",
       "      <th>Humidity9am</th>\n",
       "      <th>Humidity3pm</th>\n",
       "      <th>Pressure9am</th>\n",
       "      <th>Pressure3pm</th>\n",
       "      <th>Cloud9am</th>\n",
       "      <th>Cloud3pm</th>\n",
       "      <th>Temp9am</th>\n",
       "      <th>Temp3pm</th>\n",
       "      <th>RainToday</th>\n",
       "      <th>RainTomorrow</th>\n",
       "    </tr>\n",
       "  </thead>\n",
       "  <tbody>\n",
       "    <tr>\n",
       "      <th>0</th>\n",
       "      <td>2008-12-01</td>\n",
       "      <td>Albury</td>\n",
       "      <td>13.4</td>\n",
       "      <td>22.9</td>\n",
       "      <td>0.6</td>\n",
       "      <td>NaN</td>\n",
       "      <td>NaN</td>\n",
       "      <td>W</td>\n",
       "      <td>44.0</td>\n",
       "      <td>W</td>\n",
       "      <td>...</td>\n",
       "      <td>71.0</td>\n",
       "      <td>22.0</td>\n",
       "      <td>1007.7</td>\n",
       "      <td>1007.1</td>\n",
       "      <td>8.0</td>\n",
       "      <td>NaN</td>\n",
       "      <td>16.9</td>\n",
       "      <td>21.8</td>\n",
       "      <td>No</td>\n",
       "      <td>No</td>\n",
       "    </tr>\n",
       "    <tr>\n",
       "      <th>1</th>\n",
       "      <td>2008-12-02</td>\n",
       "      <td>Albury</td>\n",
       "      <td>7.4</td>\n",
       "      <td>25.1</td>\n",
       "      <td>0.0</td>\n",
       "      <td>NaN</td>\n",
       "      <td>NaN</td>\n",
       "      <td>WNW</td>\n",
       "      <td>44.0</td>\n",
       "      <td>NNW</td>\n",
       "      <td>...</td>\n",
       "      <td>44.0</td>\n",
       "      <td>25.0</td>\n",
       "      <td>1010.6</td>\n",
       "      <td>1007.8</td>\n",
       "      <td>NaN</td>\n",
       "      <td>NaN</td>\n",
       "      <td>17.2</td>\n",
       "      <td>24.3</td>\n",
       "      <td>No</td>\n",
       "      <td>No</td>\n",
       "    </tr>\n",
       "    <tr>\n",
       "      <th>2</th>\n",
       "      <td>2008-12-03</td>\n",
       "      <td>Albury</td>\n",
       "      <td>12.9</td>\n",
       "      <td>25.7</td>\n",
       "      <td>0.0</td>\n",
       "      <td>NaN</td>\n",
       "      <td>NaN</td>\n",
       "      <td>WSW</td>\n",
       "      <td>46.0</td>\n",
       "      <td>W</td>\n",
       "      <td>...</td>\n",
       "      <td>38.0</td>\n",
       "      <td>30.0</td>\n",
       "      <td>1007.6</td>\n",
       "      <td>1008.7</td>\n",
       "      <td>NaN</td>\n",
       "      <td>2.0</td>\n",
       "      <td>21.0</td>\n",
       "      <td>23.2</td>\n",
       "      <td>No</td>\n",
       "      <td>No</td>\n",
       "    </tr>\n",
       "    <tr>\n",
       "      <th>3</th>\n",
       "      <td>2008-12-04</td>\n",
       "      <td>Albury</td>\n",
       "      <td>9.2</td>\n",
       "      <td>28.0</td>\n",
       "      <td>0.0</td>\n",
       "      <td>NaN</td>\n",
       "      <td>NaN</td>\n",
       "      <td>NE</td>\n",
       "      <td>24.0</td>\n",
       "      <td>SE</td>\n",
       "      <td>...</td>\n",
       "      <td>45.0</td>\n",
       "      <td>16.0</td>\n",
       "      <td>1017.6</td>\n",
       "      <td>1012.8</td>\n",
       "      <td>NaN</td>\n",
       "      <td>NaN</td>\n",
       "      <td>18.1</td>\n",
       "      <td>26.5</td>\n",
       "      <td>No</td>\n",
       "      <td>No</td>\n",
       "    </tr>\n",
       "    <tr>\n",
       "      <th>4</th>\n",
       "      <td>2008-12-05</td>\n",
       "      <td>Albury</td>\n",
       "      <td>17.5</td>\n",
       "      <td>32.3</td>\n",
       "      <td>1.0</td>\n",
       "      <td>NaN</td>\n",
       "      <td>NaN</td>\n",
       "      <td>W</td>\n",
       "      <td>41.0</td>\n",
       "      <td>ENE</td>\n",
       "      <td>...</td>\n",
       "      <td>82.0</td>\n",
       "      <td>33.0</td>\n",
       "      <td>1010.8</td>\n",
       "      <td>1006.0</td>\n",
       "      <td>7.0</td>\n",
       "      <td>8.0</td>\n",
       "      <td>17.8</td>\n",
       "      <td>29.7</td>\n",
       "      <td>No</td>\n",
       "      <td>No</td>\n",
       "    </tr>\n",
       "  </tbody>\n",
       "</table>\n",
       "<p>5 rows × 23 columns</p>\n",
       "</div>"
      ],
      "text/plain": [
       "         Date Location  MinTemp  MaxTemp  Rainfall  Evaporation  Sunshine  \\\n",
       "0  2008-12-01   Albury     13.4     22.9       0.6          NaN       NaN   \n",
       "1  2008-12-02   Albury      7.4     25.1       0.0          NaN       NaN   \n",
       "2  2008-12-03   Albury     12.9     25.7       0.0          NaN       NaN   \n",
       "3  2008-12-04   Albury      9.2     28.0       0.0          NaN       NaN   \n",
       "4  2008-12-05   Albury     17.5     32.3       1.0          NaN       NaN   \n",
       "\n",
       "  WindGustDir  WindGustSpeed WindDir9am  ... Humidity9am  Humidity3pm  \\\n",
       "0           W           44.0          W  ...        71.0         22.0   \n",
       "1         WNW           44.0        NNW  ...        44.0         25.0   \n",
       "2         WSW           46.0          W  ...        38.0         30.0   \n",
       "3          NE           24.0         SE  ...        45.0         16.0   \n",
       "4           W           41.0        ENE  ...        82.0         33.0   \n",
       "\n",
       "   Pressure9am  Pressure3pm  Cloud9am  Cloud3pm  Temp9am  Temp3pm  RainToday  \\\n",
       "0       1007.7       1007.1       8.0       NaN     16.9     21.8         No   \n",
       "1       1010.6       1007.8       NaN       NaN     17.2     24.3         No   \n",
       "2       1007.6       1008.7       NaN       2.0     21.0     23.2         No   \n",
       "3       1017.6       1012.8       NaN       NaN     18.1     26.5         No   \n",
       "4       1010.8       1006.0       7.0       8.0     17.8     29.7         No   \n",
       "\n",
       "   RainTomorrow  \n",
       "0            No  \n",
       "1            No  \n",
       "2            No  \n",
       "3            No  \n",
       "4            No  \n",
       "\n",
       "[5 rows x 23 columns]"
      ]
     },
     "execution_count": 3,
     "metadata": {},
     "output_type": "execute_result"
    }
   ],
   "source": [
    "url=\"https://cf-courses-data.s3.us.cloud-object-storage.appdomain.cloud/_0eYOqji3unP1tDNKWZMjg/weatherAUS-2.csv\"\n",
    "df = pd.read_csv(url)\n",
    "df.head()"
   ]
  },
  {
   "cell_type": "code",
   "execution_count": 4,
   "metadata": {},
   "outputs": [
    {
     "data": {
      "text/plain": [
       "Date             145460\n",
       "Location         145460\n",
       "MinTemp          143975\n",
       "MaxTemp          144199\n",
       "Rainfall         142199\n",
       "Evaporation       82670\n",
       "Sunshine          75625\n",
       "WindGustDir      135134\n",
       "WindGustSpeed    135197\n",
       "WindDir9am       134894\n",
       "WindDir3pm       141232\n",
       "WindSpeed9am     143693\n",
       "WindSpeed3pm     142398\n",
       "Humidity9am      142806\n",
       "Humidity3pm      140953\n",
       "Pressure9am      130395\n",
       "Pressure3pm      130432\n",
       "Cloud9am          89572\n",
       "Cloud3pm          86102\n",
       "Temp9am          143693\n",
       "Temp3pm          141851\n",
       "RainToday        142199\n",
       "RainTomorrow     142193\n",
       "dtype: int64"
      ]
     },
     "execution_count": 4,
     "metadata": {},
     "output_type": "execute_result"
    }
   ],
   "source": [
    "df.count()"
   ]
  },
  {
   "cell_type": "markdown",
   "metadata": {},
   "source": [
    "### Droping all rows with missing values\n"
   ]
  },
  {
   "cell_type": "code",
   "execution_count": 5,
   "metadata": {},
   "outputs": [
    {
     "name": "stdout",
     "output_type": "stream",
     "text": [
      "<class 'pandas.core.frame.DataFrame'>\n",
      "Index: 56420 entries, 6049 to 142302\n",
      "Data columns (total 23 columns):\n",
      " #   Column         Non-Null Count  Dtype  \n",
      "---  ------         --------------  -----  \n",
      " 0   Date           56420 non-null  object \n",
      " 1   Location       56420 non-null  object \n",
      " 2   MinTemp        56420 non-null  float64\n",
      " 3   MaxTemp        56420 non-null  float64\n",
      " 4   Rainfall       56420 non-null  float64\n",
      " 5   Evaporation    56420 non-null  float64\n",
      " 6   Sunshine       56420 non-null  float64\n",
      " 7   WindGustDir    56420 non-null  object \n",
      " 8   WindGustSpeed  56420 non-null  float64\n",
      " 9   WindDir9am     56420 non-null  object \n",
      " 10  WindDir3pm     56420 non-null  object \n",
      " 11  WindSpeed9am   56420 non-null  float64\n",
      " 12  WindSpeed3pm   56420 non-null  float64\n",
      " 13  Humidity9am    56420 non-null  float64\n",
      " 14  Humidity3pm    56420 non-null  float64\n",
      " 15  Pressure9am    56420 non-null  float64\n",
      " 16  Pressure3pm    56420 non-null  float64\n",
      " 17  Cloud9am       56420 non-null  float64\n",
      " 18  Cloud3pm       56420 non-null  float64\n",
      " 19  Temp9am        56420 non-null  float64\n",
      " 20  Temp3pm        56420 non-null  float64\n",
      " 21  RainToday      56420 non-null  object \n",
      " 22  RainTomorrow   56420 non-null  object \n",
      "dtypes: float64(16), object(7)\n",
      "memory usage: 10.3+ MB\n"
     ]
    }
   ],
   "source": [
    "df = df.dropna()\n",
    "df.info()"
   ]
  },
  {
   "cell_type": "code",
   "execution_count": 6,
   "metadata": {},
   "outputs": [
    {
     "data": {
      "text/plain": [
       "Index(['Date', 'Location', 'MinTemp', 'MaxTemp', 'Rainfall', 'Evaporation',\n",
       "       'Sunshine', 'WindGustDir', 'WindGustSpeed', 'WindDir9am', 'WindDir3pm',\n",
       "       'WindSpeed9am', 'WindSpeed3pm', 'Humidity9am', 'Humidity3pm',\n",
       "       'Pressure9am', 'Pressure3pm', 'Cloud9am', 'Cloud3pm', 'Temp9am',\n",
       "       'Temp3pm', 'RainToday', 'RainTomorrow'],\n",
       "      dtype='object')"
      ]
     },
     "execution_count": 6,
     "metadata": {},
     "output_type": "execute_result"
    }
   ],
   "source": [
    "df.columns"
   ]
  },
  {
   "cell_type": "code",
   "execution_count": 7,
   "metadata": {},
   "outputs": [],
   "source": [
    "df = df.rename(columns={'RainToday': 'RainYesterday',\n",
    "                        'RainTomorrow': 'RainToday'\n",
    "                        })"
   ]
  },
  {
   "cell_type": "markdown",
   "metadata": {},
   "source": [
    "## Selecting Important Locations"
   ]
  },
  {
   "cell_type": "code",
   "execution_count": 8,
   "metadata": {},
   "outputs": [
    {
     "name": "stdout",
     "output_type": "stream",
     "text": [
      "<class 'pandas.core.frame.DataFrame'>\n",
      "Index: 7557 entries, 64191 to 80997\n",
      "Data columns (total 23 columns):\n",
      " #   Column         Non-Null Count  Dtype  \n",
      "---  ------         --------------  -----  \n",
      " 0   Date           7557 non-null   object \n",
      " 1   Location       7557 non-null   object \n",
      " 2   MinTemp        7557 non-null   float64\n",
      " 3   MaxTemp        7557 non-null   float64\n",
      " 4   Rainfall       7557 non-null   float64\n",
      " 5   Evaporation    7557 non-null   float64\n",
      " 6   Sunshine       7557 non-null   float64\n",
      " 7   WindGustDir    7557 non-null   object \n",
      " 8   WindGustSpeed  7557 non-null   float64\n",
      " 9   WindDir9am     7557 non-null   object \n",
      " 10  WindDir3pm     7557 non-null   object \n",
      " 11  WindSpeed9am   7557 non-null   float64\n",
      " 12  WindSpeed3pm   7557 non-null   float64\n",
      " 13  Humidity9am    7557 non-null   float64\n",
      " 14  Humidity3pm    7557 non-null   float64\n",
      " 15  Pressure9am    7557 non-null   float64\n",
      " 16  Pressure3pm    7557 non-null   float64\n",
      " 17  Cloud9am       7557 non-null   float64\n",
      " 18  Cloud3pm       7557 non-null   float64\n",
      " 19  Temp9am        7557 non-null   float64\n",
      " 20  Temp3pm        7557 non-null   float64\n",
      " 21  RainYesterday  7557 non-null   object \n",
      " 22  RainToday      7557 non-null   object \n",
      "dtypes: float64(16), object(7)\n",
      "memory usage: 1.4+ MB\n"
     ]
    }
   ],
   "source": [
    "df = df[df.Location.isin(['Melbourne','MelbourneAirport','Watsonia',])]\n",
    "df. info()"
   ]
  },
  {
   "cell_type": "markdown",
   "metadata": {},
   "source": [
    "### Creating a function to map dates to seasons\n"
   ]
  },
  {
   "cell_type": "code",
   "execution_count": 9,
   "metadata": {},
   "outputs": [],
   "source": [
    "def date_to_season(date):\n",
    "    month=date.month\n",
    "    if((month==12)or(month==1)or(month==2)):\n",
    "        return 'Summer'\n",
    "    elif((month==3)or(month==4)or(month==5)):\n",
    "        return 'Autumn'\n",
    "    elif (month == 6) or (month == 7) or (month == 8):\n",
    "         return 'Winter'\n",
    "    elif (month == 9) or (month == 10) or (month == 11):\n",
    "         return 'Spring'"
   ]
  },
  {
   "cell_type": "markdown",
   "metadata": {},
   "source": [
    "## Maping the dates to seasons and drop the Date column"
   ]
  },
  {
   "cell_type": "code",
   "execution_count": 10,
   "metadata": {},
   "outputs": [
    {
     "data": {
      "text/html": [
       "<div>\n",
       "<style scoped>\n",
       "    .dataframe tbody tr th:only-of-type {\n",
       "        vertical-align: middle;\n",
       "    }\n",
       "\n",
       "    .dataframe tbody tr th {\n",
       "        vertical-align: top;\n",
       "    }\n",
       "\n",
       "    .dataframe thead th {\n",
       "        text-align: right;\n",
       "    }\n",
       "</style>\n",
       "<table border=\"1\" class=\"dataframe\">\n",
       "  <thead>\n",
       "    <tr style=\"text-align: right;\">\n",
       "      <th></th>\n",
       "      <th>Date</th>\n",
       "      <th>Location</th>\n",
       "      <th>MinTemp</th>\n",
       "      <th>MaxTemp</th>\n",
       "      <th>Rainfall</th>\n",
       "      <th>Evaporation</th>\n",
       "      <th>Sunshine</th>\n",
       "      <th>WindGustDir</th>\n",
       "      <th>WindGustSpeed</th>\n",
       "      <th>WindDir9am</th>\n",
       "      <th>...</th>\n",
       "      <th>Humidity3pm</th>\n",
       "      <th>Pressure9am</th>\n",
       "      <th>Pressure3pm</th>\n",
       "      <th>Cloud9am</th>\n",
       "      <th>Cloud3pm</th>\n",
       "      <th>Temp9am</th>\n",
       "      <th>Temp3pm</th>\n",
       "      <th>RainYesterday</th>\n",
       "      <th>RainToday</th>\n",
       "      <th>Season</th>\n",
       "    </tr>\n",
       "  </thead>\n",
       "  <tbody>\n",
       "    <tr>\n",
       "      <th>64191</th>\n",
       "      <td>2009-01-01</td>\n",
       "      <td>MelbourneAirport</td>\n",
       "      <td>11.2</td>\n",
       "      <td>19.9</td>\n",
       "      <td>0.0</td>\n",
       "      <td>5.6</td>\n",
       "      <td>8.8</td>\n",
       "      <td>SW</td>\n",
       "      <td>69.0</td>\n",
       "      <td>W</td>\n",
       "      <td>...</td>\n",
       "      <td>37.0</td>\n",
       "      <td>1005.1</td>\n",
       "      <td>1006.4</td>\n",
       "      <td>7.0</td>\n",
       "      <td>7.0</td>\n",
       "      <td>15.9</td>\n",
       "      <td>18.1</td>\n",
       "      <td>No</td>\n",
       "      <td>Yes</td>\n",
       "      <td>Summer</td>\n",
       "    </tr>\n",
       "    <tr>\n",
       "      <th>64192</th>\n",
       "      <td>2009-01-02</td>\n",
       "      <td>MelbourneAirport</td>\n",
       "      <td>7.8</td>\n",
       "      <td>17.8</td>\n",
       "      <td>1.2</td>\n",
       "      <td>7.2</td>\n",
       "      <td>12.9</td>\n",
       "      <td>SSE</td>\n",
       "      <td>56.0</td>\n",
       "      <td>SW</td>\n",
       "      <td>...</td>\n",
       "      <td>43.0</td>\n",
       "      <td>1018.0</td>\n",
       "      <td>1019.3</td>\n",
       "      <td>6.0</td>\n",
       "      <td>7.0</td>\n",
       "      <td>12.5</td>\n",
       "      <td>15.8</td>\n",
       "      <td>Yes</td>\n",
       "      <td>No</td>\n",
       "      <td>Summer</td>\n",
       "    </tr>\n",
       "    <tr>\n",
       "      <th>64193</th>\n",
       "      <td>2009-01-03</td>\n",
       "      <td>MelbourneAirport</td>\n",
       "      <td>6.3</td>\n",
       "      <td>21.1</td>\n",
       "      <td>0.0</td>\n",
       "      <td>6.2</td>\n",
       "      <td>10.5</td>\n",
       "      <td>SSE</td>\n",
       "      <td>31.0</td>\n",
       "      <td>E</td>\n",
       "      <td>...</td>\n",
       "      <td>35.0</td>\n",
       "      <td>1020.8</td>\n",
       "      <td>1017.6</td>\n",
       "      <td>1.0</td>\n",
       "      <td>7.0</td>\n",
       "      <td>13.4</td>\n",
       "      <td>19.6</td>\n",
       "      <td>No</td>\n",
       "      <td>No</td>\n",
       "      <td>Summer</td>\n",
       "    </tr>\n",
       "    <tr>\n",
       "      <th>64194</th>\n",
       "      <td>2009-01-04</td>\n",
       "      <td>MelbourneAirport</td>\n",
       "      <td>8.1</td>\n",
       "      <td>29.2</td>\n",
       "      <td>0.0</td>\n",
       "      <td>6.4</td>\n",
       "      <td>12.5</td>\n",
       "      <td>SSE</td>\n",
       "      <td>35.0</td>\n",
       "      <td>NE</td>\n",
       "      <td>...</td>\n",
       "      <td>23.0</td>\n",
       "      <td>1016.2</td>\n",
       "      <td>1012.8</td>\n",
       "      <td>5.0</td>\n",
       "      <td>4.0</td>\n",
       "      <td>16.0</td>\n",
       "      <td>28.2</td>\n",
       "      <td>No</td>\n",
       "      <td>No</td>\n",
       "      <td>Summer</td>\n",
       "    </tr>\n",
       "    <tr>\n",
       "      <th>64195</th>\n",
       "      <td>2009-01-05</td>\n",
       "      <td>MelbourneAirport</td>\n",
       "      <td>9.7</td>\n",
       "      <td>29.0</td>\n",
       "      <td>0.0</td>\n",
       "      <td>7.4</td>\n",
       "      <td>12.3</td>\n",
       "      <td>SE</td>\n",
       "      <td>33.0</td>\n",
       "      <td>SW</td>\n",
       "      <td>...</td>\n",
       "      <td>31.0</td>\n",
       "      <td>1011.9</td>\n",
       "      <td>1010.3</td>\n",
       "      <td>6.0</td>\n",
       "      <td>2.0</td>\n",
       "      <td>19.4</td>\n",
       "      <td>27.1</td>\n",
       "      <td>No</td>\n",
       "      <td>No</td>\n",
       "      <td>Summer</td>\n",
       "    </tr>\n",
       "    <tr>\n",
       "      <th>...</th>\n",
       "      <td>...</td>\n",
       "      <td>...</td>\n",
       "      <td>...</td>\n",
       "      <td>...</td>\n",
       "      <td>...</td>\n",
       "      <td>...</td>\n",
       "      <td>...</td>\n",
       "      <td>...</td>\n",
       "      <td>...</td>\n",
       "      <td>...</td>\n",
       "      <td>...</td>\n",
       "      <td>...</td>\n",
       "      <td>...</td>\n",
       "      <td>...</td>\n",
       "      <td>...</td>\n",
       "      <td>...</td>\n",
       "      <td>...</td>\n",
       "      <td>...</td>\n",
       "      <td>...</td>\n",
       "      <td>...</td>\n",
       "      <td>...</td>\n",
       "    </tr>\n",
       "    <tr>\n",
       "      <th>80992</th>\n",
       "      <td>2017-06-20</td>\n",
       "      <td>Watsonia</td>\n",
       "      <td>3.6</td>\n",
       "      <td>14.5</td>\n",
       "      <td>0.0</td>\n",
       "      <td>2.4</td>\n",
       "      <td>8.8</td>\n",
       "      <td>NNE</td>\n",
       "      <td>41.0</td>\n",
       "      <td>ENE</td>\n",
       "      <td>...</td>\n",
       "      <td>66.0</td>\n",
       "      <td>1028.4</td>\n",
       "      <td>1025.0</td>\n",
       "      <td>1.0</td>\n",
       "      <td>7.0</td>\n",
       "      <td>5.2</td>\n",
       "      <td>13.8</td>\n",
       "      <td>No</td>\n",
       "      <td>No</td>\n",
       "      <td>Winter</td>\n",
       "    </tr>\n",
       "    <tr>\n",
       "      <th>80994</th>\n",
       "      <td>2017-06-22</td>\n",
       "      <td>Watsonia</td>\n",
       "      <td>4.8</td>\n",
       "      <td>13.3</td>\n",
       "      <td>0.4</td>\n",
       "      <td>0.6</td>\n",
       "      <td>0.0</td>\n",
       "      <td>NNW</td>\n",
       "      <td>24.0</td>\n",
       "      <td>NE</td>\n",
       "      <td>...</td>\n",
       "      <td>63.0</td>\n",
       "      <td>1028.5</td>\n",
       "      <td>1025.1</td>\n",
       "      <td>7.0</td>\n",
       "      <td>7.0</td>\n",
       "      <td>5.6</td>\n",
       "      <td>12.4</td>\n",
       "      <td>No</td>\n",
       "      <td>No</td>\n",
       "      <td>Winter</td>\n",
       "    </tr>\n",
       "    <tr>\n",
       "      <th>80995</th>\n",
       "      <td>2017-06-23</td>\n",
       "      <td>Watsonia</td>\n",
       "      <td>5.6</td>\n",
       "      <td>13.1</td>\n",
       "      <td>0.0</td>\n",
       "      <td>1.6</td>\n",
       "      <td>6.0</td>\n",
       "      <td>NNW</td>\n",
       "      <td>52.0</td>\n",
       "      <td>NE</td>\n",
       "      <td>...</td>\n",
       "      <td>67.0</td>\n",
       "      <td>1019.0</td>\n",
       "      <td>1014.0</td>\n",
       "      <td>1.0</td>\n",
       "      <td>7.0</td>\n",
       "      <td>8.8</td>\n",
       "      <td>11.6</td>\n",
       "      <td>No</td>\n",
       "      <td>Yes</td>\n",
       "      <td>Winter</td>\n",
       "    </tr>\n",
       "    <tr>\n",
       "      <th>80996</th>\n",
       "      <td>2017-06-24</td>\n",
       "      <td>Watsonia</td>\n",
       "      <td>6.9</td>\n",
       "      <td>12.1</td>\n",
       "      <td>3.2</td>\n",
       "      <td>1.8</td>\n",
       "      <td>5.6</td>\n",
       "      <td>SSW</td>\n",
       "      <td>24.0</td>\n",
       "      <td>WNW</td>\n",
       "      <td>...</td>\n",
       "      <td>61.0</td>\n",
       "      <td>1018.7</td>\n",
       "      <td>1017.3</td>\n",
       "      <td>2.0</td>\n",
       "      <td>7.0</td>\n",
       "      <td>7.9</td>\n",
       "      <td>11.0</td>\n",
       "      <td>Yes</td>\n",
       "      <td>No</td>\n",
       "      <td>Winter</td>\n",
       "    </tr>\n",
       "    <tr>\n",
       "      <th>80997</th>\n",
       "      <td>2017-06-25</td>\n",
       "      <td>Watsonia</td>\n",
       "      <td>7.9</td>\n",
       "      <td>13.0</td>\n",
       "      <td>0.0</td>\n",
       "      <td>2.8</td>\n",
       "      <td>3.8</td>\n",
       "      <td>NNW</td>\n",
       "      <td>39.0</td>\n",
       "      <td>N</td>\n",
       "      <td>...</td>\n",
       "      <td>69.0</td>\n",
       "      <td>1017.6</td>\n",
       "      <td>1015.3</td>\n",
       "      <td>7.0</td>\n",
       "      <td>7.0</td>\n",
       "      <td>9.0</td>\n",
       "      <td>11.7</td>\n",
       "      <td>No</td>\n",
       "      <td>No</td>\n",
       "      <td>Winter</td>\n",
       "    </tr>\n",
       "  </tbody>\n",
       "</table>\n",
       "<p>7557 rows × 24 columns</p>\n",
       "</div>"
      ],
      "text/plain": [
       "            Date          Location  MinTemp  MaxTemp  Rainfall  Evaporation  \\\n",
       "64191 2009-01-01  MelbourneAirport     11.2     19.9       0.0          5.6   \n",
       "64192 2009-01-02  MelbourneAirport      7.8     17.8       1.2          7.2   \n",
       "64193 2009-01-03  MelbourneAirport      6.3     21.1       0.0          6.2   \n",
       "64194 2009-01-04  MelbourneAirport      8.1     29.2       0.0          6.4   \n",
       "64195 2009-01-05  MelbourneAirport      9.7     29.0       0.0          7.4   \n",
       "...          ...               ...      ...      ...       ...          ...   \n",
       "80992 2017-06-20          Watsonia      3.6     14.5       0.0          2.4   \n",
       "80994 2017-06-22          Watsonia      4.8     13.3       0.4          0.6   \n",
       "80995 2017-06-23          Watsonia      5.6     13.1       0.0          1.6   \n",
       "80996 2017-06-24          Watsonia      6.9     12.1       3.2          1.8   \n",
       "80997 2017-06-25          Watsonia      7.9     13.0       0.0          2.8   \n",
       "\n",
       "       Sunshine WindGustDir  WindGustSpeed WindDir9am  ... Humidity3pm  \\\n",
       "64191       8.8          SW           69.0          W  ...        37.0   \n",
       "64192      12.9         SSE           56.0         SW  ...        43.0   \n",
       "64193      10.5         SSE           31.0          E  ...        35.0   \n",
       "64194      12.5         SSE           35.0         NE  ...        23.0   \n",
       "64195      12.3          SE           33.0         SW  ...        31.0   \n",
       "...         ...         ...            ...        ...  ...         ...   \n",
       "80992       8.8         NNE           41.0        ENE  ...        66.0   \n",
       "80994       0.0         NNW           24.0         NE  ...        63.0   \n",
       "80995       6.0         NNW           52.0         NE  ...        67.0   \n",
       "80996       5.6         SSW           24.0        WNW  ...        61.0   \n",
       "80997       3.8         NNW           39.0          N  ...        69.0   \n",
       "\n",
       "       Pressure9am  Pressure3pm  Cloud9am  Cloud3pm  Temp9am  Temp3pm  \\\n",
       "64191       1005.1       1006.4       7.0       7.0     15.9     18.1   \n",
       "64192       1018.0       1019.3       6.0       7.0     12.5     15.8   \n",
       "64193       1020.8       1017.6       1.0       7.0     13.4     19.6   \n",
       "64194       1016.2       1012.8       5.0       4.0     16.0     28.2   \n",
       "64195       1011.9       1010.3       6.0       2.0     19.4     27.1   \n",
       "...            ...          ...       ...       ...      ...      ...   \n",
       "80992       1028.4       1025.0       1.0       7.0      5.2     13.8   \n",
       "80994       1028.5       1025.1       7.0       7.0      5.6     12.4   \n",
       "80995       1019.0       1014.0       1.0       7.0      8.8     11.6   \n",
       "80996       1018.7       1017.3       2.0       7.0      7.9     11.0   \n",
       "80997       1017.6       1015.3       7.0       7.0      9.0     11.7   \n",
       "\n",
       "       RainYesterday  RainToday  Season  \n",
       "64191             No        Yes  Summer  \n",
       "64192            Yes         No  Summer  \n",
       "64193             No         No  Summer  \n",
       "64194             No         No  Summer  \n",
       "64195             No         No  Summer  \n",
       "...              ...        ...     ...  \n",
       "80992             No         No  Winter  \n",
       "80994             No         No  Winter  \n",
       "80995             No        Yes  Winter  \n",
       "80996            Yes         No  Winter  \n",
       "80997             No         No  Winter  \n",
       "\n",
       "[7557 rows x 24 columns]"
      ]
     },
     "execution_count": 10,
     "metadata": {},
     "output_type": "execute_result"
    }
   ],
   "source": [
    "df['Date']=pd.to_datetime(df['Date'])\n",
    "df['Season']=df['Date'].apply(date_to_season)\n",
    "df"
   ]
  },
  {
   "cell_type": "markdown",
   "metadata": {},
   "source": [
    "## Defining the feature and target dataframes"
   ]
  },
  {
   "cell_type": "code",
   "execution_count": 11,
   "metadata": {},
   "outputs": [],
   "source": [
    "X=df.drop(columns=['RainToday','Date'],axis=1)\n",
    "y=df['RainToday']"
   ]
  },
  {
   "cell_type": "markdown",
   "metadata": {},
   "source": [
    "## Visualizing the Data"
   ]
  },
  {
   "cell_type": "code",
   "execution_count": 12,
   "metadata": {},
   "outputs": [
    {
     "name": "stderr",
     "output_type": "stream",
     "text": [
      "C:\\Users\\Rajveer Gupta\\AppData\\Local\\Temp\\ipykernel_23804\\85655005.py:1: FutureWarning: pandas.value_counts is deprecated and will be removed in a future version. Use pd.Series(obj).value_counts() instead.\n",
      "  pd.value_counts(X['Location']).plot(kind='bar')\n"
     ]
    },
    {
     "data": {
      "text/plain": [
       "<Axes: xlabel='Location'>"
      ]
     },
     "execution_count": 12,
     "metadata": {},
     "output_type": "execute_result"
    },
    {
     "data": {
      "image/png": "[encoded data removed]",
      "text/plain": [
       "<Figure size 640x480 with 1 Axes>"
      ]
     },
     "metadata": {},
     "output_type": "display_data"
    }
   ],
   "source": [
    "pd.value_counts(X['Location']).plot(kind='bar')"
   ]
  },
  {
   "cell_type": "markdown",
   "metadata": {},
   "source": [
    "## Spliting data into training and test sets, ensuring target stratification"
   ]
  },
  {
   "cell_type": "code",
   "execution_count": 13,
   "metadata": {},
   "outputs": [],
   "source": [
    "# Write your response.\n",
    "from sklearn.model_selection import train_test_split\n",
    "X_train,X_test,y_train,y_test=train_test_split(X,y,test_size=0.2)"
   ]
  },
  {
   "cell_type": "code",
   "execution_count": 14,
   "metadata": {},
   "outputs": [
    {
     "name": "stdout",
     "output_type": "stream",
     "text": [
      "<class 'pandas.core.frame.DataFrame'>\n",
      "Index: 6045 entries, 66362 to 80139\n",
      "Data columns (total 22 columns):\n",
      " #   Column         Non-Null Count  Dtype  \n",
      "---  ------         --------------  -----  \n",
      " 0   Location       6045 non-null   object \n",
      " 1   MinTemp        6045 non-null   float64\n",
      " 2   MaxTemp        6045 non-null   float64\n",
      " 3   Rainfall       6045 non-null   float64\n",
      " 4   Evaporation    6045 non-null   float64\n",
      " 5   Sunshine       6045 non-null   float64\n",
      " 6   WindGustDir    6045 non-null   object \n",
      " 7   WindGustSpeed  6045 non-null   float64\n",
      " 8   WindDir9am     6045 non-null   object \n",
      " 9   WindDir3pm     6045 non-null   object \n",
      " 10  WindSpeed9am   6045 non-null   float64\n",
      " 11  WindSpeed3pm   6045 non-null   float64\n",
      " 12  Humidity9am    6045 non-null   float64\n",
      " 13  Humidity3pm    6045 non-null   float64\n",
      " 14  Pressure9am    6045 non-null   float64\n",
      " 15  Pressure3pm    6045 non-null   float64\n",
      " 16  Cloud9am       6045 non-null   float64\n",
      " 17  Cloud3pm       6045 non-null   float64\n",
      " 18  Temp9am        6045 non-null   float64\n",
      " 19  Temp3pm        6045 non-null   float64\n",
      " 20  RainYesterday  6045 non-null   object \n",
      " 21  Season         6045 non-null   object \n",
      "dtypes: float64(16), object(6)\n",
      "memory usage: 1.1+ MB\n"
     ]
    }
   ],
   "source": [
    "X_train.dropna()\n",
    "X_train.info()"
   ]
  },
  {
   "cell_type": "markdown",
   "metadata": {},
   "source": [
    "## Defining preprocessing features for numerical and categorical features"
   ]
  },
  {
   "cell_type": "code",
   "execution_count": 15,
   "metadata": {},
   "outputs": [],
   "source": [
    "numeric_features=['MinTemp','MaxTemp','Rainfall','Evaporation','Sunshine','WindGustSpeed','WindSpeed9am','WindSpeed3pm',\n",
    "                  'Pressure9am','Pressure3pm','Cloud9am','Cloud3pm','Temp9am','Temp3pm']\n",
    "categorical_features=['Location','WindGustDir','WindDir9am','WindDir3pm','RainYesterday','Season']"
   ]
  },
  {
   "cell_type": "markdown",
   "metadata": {},
   "source": [
    "### Defining separate transformers for both feature types and combining them into a single preprocessing transformer\n"
   ]
  },
  {
   "cell_type": "code",
   "execution_count": 16,
   "metadata": {},
   "outputs": [],
   "source": [
    "numeric_transformer = Pipeline([\n",
    "    ('imputer', SimpleImputer(strategy='median')),\n",
    "    ('scaler', StandardScaler())\n",
    "])\n",
    "\n",
    "categorical_transformer = Pipeline([\n",
    "    ('imputer', SimpleImputer(strategy='most_frequent')),\n",
    "    ('encoder', OrdinalEncoder())\n",
    "])"
   ]
  },
  {
   "cell_type": "markdown",
   "metadata": {},
   "source": [
    "## Combining the transformers into a single preprocessing column transformer"
   ]
  },
  {
   "cell_type": "code",
   "execution_count": 17,
   "metadata": {},
   "outputs": [],
   "source": [
    "preprocessor=ColumnTransformer([('num',numeric_transformer,numeric_features),\n",
    "                               ('cat',categorical_transformer,categorical_features)])"
   ]
  },
  {
   "cell_type": "markdown",
   "metadata": {},
   "source": [
    "## Creating a pipeline by combining the preprocessing with a Random Forest classifier"
   ]
  },
  {
   "cell_type": "code",
   "execution_count": 18,
   "metadata": {},
   "outputs": [],
   "source": [
    "pipeline=Pipeline([('preprocessor',preprocessor),\n",
    "                   ('classifier',RandomForestClassifier(n_estimators=90))])\n",
    "start_time=time.time()\n",
    "pipeline.fit(X_train,y_train)\n",
    "end_time=time.time()\n",
    "time_RandomForestClassifier=end_time-start_time"
   ]
  },
  {
   "cell_type": "markdown",
   "metadata": {},
   "source": [
    "### Training the model using XGBClassifier"
   ]
  },
  {
   "cell_type": "code",
   "execution_count": 19,
   "metadata": {},
   "outputs": [],
   "source": [
    "pipeline_XGB=Pipeline([('preprocessor',preprocessor),\n",
    "                      ('XGBClassifier',XGBClassifier(n_estimators=90))])\n",
    "y_train=LabelEncoder().fit_transform(y_train)\n",
    "start_time_xgb=time.time()\n",
    "pipeline_XGB.fit(X_train,y_train)\n",
    "end_time_xgb=time.time()\n",
    "time_XGB=end_time_xgb-start_time_xgb"
   ]
  },
  {
   "cell_type": "markdown",
   "metadata": {},
   "source": [
    "## Displaying both  model's estimated score and time taken to train both the models"
   ]
  },
  {
   "cell_type": "code",
   "execution_count": 20,
   "metadata": {},
   "outputs": [
    {
     "name": "stdout",
     "output_type": "stream",
     "text": [
      "Score of Random Forest Classifier= 0.8604497354497355\n",
      "Score of XGB Classifier= 0.8657407407407407\n",
      "Time taken for RandomForestClassifier 1.0404272079467773\n",
      "Time taken for RandomForestClassifier 1.0404272079467773\n"
     ]
    }
   ],
   "source": [
    "y_pred=pipeline.predict(X_test)\n",
    "y_pred_xgb=pipeline_XGB.predict(X_test)\n",
    "test_score_RandomForest=accuracy_score(y_test,y_pred)\n",
    "y_test_xgb=LabelEncoder().fit_transform(y_test)\n",
    "test_score_XGB=accuracy_score(y_test_xgb,y_pred_xgb)\n",
    "print('Score of Random Forest Classifier=',test_score_RandomForest)\n",
    "print('Score of XGB Classifier=',test_score_XGB)\n",
    "print('Time taken for RandomForestClassifier',time_RandomForestClassifier)\n",
    "print('Time taken for RandomForestClassifier',time_RandomForestClassifier)"
   ]
  },
  {
   "cell_type": "markdown",
   "metadata": {},
   "source": [
    "## Printing the classification report of both the models"
   ]
  },
  {
   "cell_type": "code",
   "execution_count": 21,
   "metadata": {},
   "outputs": [
    {
     "name": "stdout",
     "output_type": "stream",
     "text": [
      "Classification report of Random Forest Classifier               precision    recall  f1-score   support\n",
      "\n",
      "          No       0.95      0.88      0.91      1247\n",
      "         Yes       0.57      0.78      0.66       265\n",
      "\n",
      "    accuracy                           0.86      1512\n",
      "   macro avg       0.76      0.83      0.79      1512\n",
      "weighted avg       0.88      0.86      0.87      1512\n",
      "\n",
      "Classification report of XGB Classifier               precision    recall  f1-score   support\n",
      "\n",
      "           0       0.95      0.88      0.91      1233\n",
      "           1       0.60      0.78      0.68       279\n",
      "\n",
      "    accuracy                           0.87      1512\n",
      "   macro avg       0.78      0.83      0.80      1512\n",
      "weighted avg       0.88      0.87      0.87      1512\n",
      "\n"
     ]
    }
   ],
   "source": [
    "print('Classification report of Random Forest Classifier',classification_report(y_pred,y_test))\n",
    "print('Classification report of XGB Classifier',classification_report(y_pred_xgb,y_test_xgb))"
   ]
  },
  {
   "cell_type": "markdown",
   "metadata": {},
   "source": [
    "## Ploting  the confusion matrix of both the models"
   ]
  },
  {
   "cell_type": "code",
   "execution_count": 22,
   "metadata": {},
   "outputs": [
    {
     "data": {
      "image/png": "[encoded data removed]",
      "text/plain": [
       "<Figure size 1200x500 with 4 Axes>"
      ]
     },
     "metadata": {},
     "output_type": "display_data"
    }
   ],
   "source": [
    "conf_matrix_randomforest=confusion_matrix(y_test,y_pred)\n",
    "conf_matrix_xgb=confusion_matrix(y_test_xgb,y_pred_xgb)\n",
    "fig,axes=plt.subplots(1,2,figsize=(12,5))\n",
    "sns.heatmap(conf_matrix_randomforest,annot=True,cmap='Blues',fmt='d',ax=axes[0])\n",
    "axes[0].set_xlabel('Predicted label')\n",
    "axes[0].set_ylabel('Actual label')\n",
    "axes[0].set_title('Confusion matrix for RandomForestClassifier')\n",
    "sns.heatmap(conf_matrix_xgb,annot=True,cmap='Reds',fmt='d',ax=axes[1])\n",
    "axes[1].set_xlabel('Predicted label')\n",
    "axes[1].set_ylabel('Actual label')\n",
    "axes[1].set_title('Confusion matrix for XGBClassifier')\n",
    "plt.show()"
   ]
  }
 ],
 "metadata": {
  "kernelspec": {
   "display_name": "Python 3 (ipykernel)",
   "language": "python",
   "name": "python3"
  },
  "language_info": {
   "codemirror_mode": {
    "name": "ipython",
    "version": 3
   },
   "file_extension": ".py",
   "mimetype": "text/x-python",
   "name": "python",
   "nbconvert_exporter": "python",
   "pygments_lexer": "ipython3",
   "version": "3.12.7"
  },
  "prev_pub_hash": "6a00a703e123bddd6178a90cb7938f215f09b4ca3e08ba1f30d34b01603dd863"
 },
 "nbformat": 4,
 "nbformat_minor": 4
}
